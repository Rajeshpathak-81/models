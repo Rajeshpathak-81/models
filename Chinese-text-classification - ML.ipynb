{
 "cells": [
  {
   "cell_type": "code",
   "execution_count": 1039,
   "metadata": {},
   "outputs": [],
   "source": [
    "########## Importing necessary libraries\n",
    "\n",
    "import numpy as np \n",
    "import pandas as pd\n",
    "import os\n",
    "import json\n",
    "import matplotlib\n",
    "import seaborn as sns\n",
    "import matplotlib.pyplot as plt\n",
    "from tqdm import tqdm_notebook\n",
    "%matplotlib inline \n",
    "import tqdm\n",
    "import time\n",
    "from sklearn.model_selection import train_test_split\n",
    "from sklearn.naive_bayes import MultinomialNB\n",
    "from sklearn.feature_extraction.text import CountVectorizer, TfidfVectorizer\n",
    "from sklearn.metrics import confusion_matrix, classification_report, roc_auc_score, f1_score, recall_score\n",
    "from sklearn import svm\n",
    "from sklearn.ensemble import RandomForestClassifier\n",
    "from sklearn.linear_model import LogisticRegression\n",
    "from nltk.tokenize import RegexpTokenizer\n",
    "from sklearn.feature_extraction.text import TfidfTransformer\n",
    "import pickle"
   ]
  },
  {
   "cell_type": "markdown",
   "metadata": {},
   "source": [
    "# Data Preprocessing"
   ]
  },
  {
   "cell_type": "code",
   "execution_count": 1045,
   "metadata": {},
   "outputs": [],
   "source": [
    "data_df = pd.read_csv(\"E:\\\\train_data.csv\")"
   ]
  },
  {
   "cell_type": "code",
   "execution_count": 1046,
   "metadata": {},
   "outputs": [
    {
     "name": "stdout",
     "output_type": "stream",
     "text": [
      "Rows: 2500, Cols: 3\n"
     ]
    }
   ],
   "source": [
    "# Checking the glimpse of the data\n",
    "print(f\"Rows: {data_df.shape[0]}, Cols: {data_df.shape[1]}\")"
   ]
  },
  {
   "cell_type": "code",
   "execution_count": 1047,
   "metadata": {},
   "outputs": [
    {
     "data": {
      "text/html": [
       "<div>\n",
       "<style scoped>\n",
       "    .dataframe tbody tr th:only-of-type {\n",
       "        vertical-align: middle;\n",
       "    }\n",
       "\n",
       "    .dataframe tbody tr th {\n",
       "        vertical-align: top;\n",
       "    }\n",
       "\n",
       "    .dataframe thead th {\n",
       "        text-align: right;\n",
       "    }\n",
       "</style>\n",
       "<table border=\"1\" class=\"dataframe\">\n",
       "  <thead>\n",
       "    <tr style=\"text-align: right;\">\n",
       "      <th></th>\n",
       "      <th>Unnamed: 0</th>\n",
       "      <th>text</th>\n",
       "      <th>category</th>\n",
       "    </tr>\n",
       "  </thead>\n",
       "  <tbody>\n",
       "    <tr>\n",
       "      <th>0</th>\n",
       "      <td>1497</td>\n",
       "      <td>﻿ 日月 光华   - -   Traffic _ Info 精华区 文章 阅读- - - ...</td>\n",
       "      <td>traffic</td>\n",
       "    </tr>\n",
       "    <tr>\n",
       "      <th>1</th>\n",
       "      <td>436</td>\n",
       "      <td>﻿                       日本 去年 海外 资产 和 负债额 均 创 ...</td>\n",
       "      <td>economic</td>\n",
       "    </tr>\n",
       "    <tr>\n",
       "      <th>2</th>\n",
       "      <td>736</td>\n",
       "      <td>﻿                       梁斌 黄胄 联袂 在 京 举办 画展新华社 ...</td>\n",
       "      <td>art</td>\n",
       "    </tr>\n",
       "    <tr>\n",
       "      <th>3</th>\n",
       "      <td>2673</td>\n",
       "      <td>﻿                       记者来信 ： 乱 降价 也 有害新华社 北京...</td>\n",
       "      <td>economic</td>\n",
       "    </tr>\n",
       "    <tr>\n",
       "      <th>4</th>\n",
       "      <td>2266</td>\n",
       "      <td>﻿                       巴解 愿同 叙利亚 和解新华社 开罗 ５ 月...</td>\n",
       "      <td>politics</td>\n",
       "    </tr>\n",
       "  </tbody>\n",
       "</table>\n",
       "</div>"
      ],
      "text/plain": [
       "   Unnamed: 0                                               text  category\n",
       "0        1497  ﻿ 日月 光华   - -   Traffic _ Info 精华区 文章 阅读- - - ...   traffic\n",
       "1         436  ﻿                       日本 去年 海外 资产 和 负债额 均 创 ...  economic\n",
       "2         736  ﻿                       梁斌 黄胄 联袂 在 京 举办 画展新华社 ...       art\n",
       "3        2673  ﻿                       记者来信 ： 乱 降价 也 有害新华社 北京...  economic\n",
       "4        2266  ﻿                       巴解 愿同 叙利亚 和解新华社 开罗 ５ 月...  politics"
      ]
     },
     "execution_count": 1047,
     "metadata": {},
     "output_type": "execute_result"
    }
   ],
   "source": [
    "data_df.head(5)"
   ]
  },
  {
   "cell_type": "code",
   "execution_count": 681,
   "metadata": {},
   "outputs": [
    {
     "name": "stdout",
     "output_type": "stream",
     "text": [
      "<class 'pandas.core.frame.DataFrame'>\n",
      "RangeIndex: 2500 entries, 0 to 2499\n",
      "Data columns (total 3 columns):\n",
      "Unnamed: 0    2500 non-null int64\n",
      "text          2500 non-null object\n",
      "category      2500 non-null object\n",
      "dtypes: int64(1), object(2)\n",
      "memory usage: 58.7+ KB\n"
     ]
    }
   ],
   "source": [
    "#### Get the information of the data\n",
    "data_df.info()"
   ]
  },
  {
   "cell_type": "code",
   "execution_count": 1048,
   "metadata": {},
   "outputs": [
    {
     "data": {
      "text/plain": [
       "politics       448\n",
       "sports         400\n",
       "economic       289\n",
       "military       221\n",
       "art            220\n",
       "education      195\n",
       "traffic        190\n",
       "medical        181\n",
       "environment    178\n",
       "computer       178\n",
       "Name: category, dtype: int64"
      ]
     },
     "execution_count": 1048,
     "metadata": {},
     "output_type": "execute_result"
    }
   ],
   "source": [
    "### Checking the coung of all categories\n",
    "data_df.category.value_counts()"
   ]
  },
  {
   "cell_type": "code",
   "execution_count": 1049,
   "metadata": {},
   "outputs": [],
   "source": [
    "############  Regular expression for cleaning the data \n",
    "\n",
    "import re\n",
    "\n",
    "REPLACE_NO_SPACE = re.compile(\"[.;:!\\'?,\\\"()\\[\\]]\")\n",
    "REPLACE_WITH_SPACE = re.compile(\"(<br\\s*/><br\\s*/>)|(\\-)|(\\/)\")\n",
    "\n",
    "def preprocess_reviews(reviews):\n",
    "    reviews = REPLACE_NO_SPACE.sub(\"\", reviews.lower())\n",
    "    reviews = REPLACE_WITH_SPACE.sub(\" \", reviews)\n",
    "    reviews=re.sub(\"(\\s\\d+)\",\"\",reviews) \n",
    "    reviews = re.sub(r\"[a-z]\", \"\", reviews)\n",
    "    reviews = re.sub(r\"[_]\", \"\", reviews)\n",
    "    reviews = re.sub(r\"[\\\"]\", \"\", reviews)\n",
    "    reviews = re.sub(r\"[:]\", \"\", reviews)\n",
    "    reviews=re.sub(r'\\W', ' ', reviews)\n",
    "    reviews = re.sub(r'\\s+', ' ', reviews, flags=re.I)\n",
    "    return reviews\n"
   ]
  },
  {
   "cell_type": "code",
   "execution_count": 1050,
   "metadata": {},
   "outputs": [],
   "source": [
    "######## Apply the regular expression on text column\n",
    "data_df['text'] = data_df['text'].apply(lambda x: preprocess_reviews(x))"
   ]
  },
  {
   "cell_type": "code",
   "execution_count": 1051,
   "metadata": {},
   "outputs": [
    {
     "data": {
      "text/html": [
       "<div>\n",
       "<style scoped>\n",
       "    .dataframe tbody tr th:only-of-type {\n",
       "        vertical-align: middle;\n",
       "    }\n",
       "\n",
       "    .dataframe tbody tr th {\n",
       "        vertical-align: top;\n",
       "    }\n",
       "\n",
       "    .dataframe thead th {\n",
       "        text-align: right;\n",
       "    }\n",
       "</style>\n",
       "<table border=\"1\" class=\"dataframe\">\n",
       "  <thead>\n",
       "    <tr style=\"text-align: right;\">\n",
       "      <th></th>\n",
       "      <th>Unnamed: 0</th>\n",
       "      <th>text</th>\n",
       "      <th>category</th>\n",
       "    </tr>\n",
       "  </thead>\n",
       "  <tbody>\n",
       "    <tr>\n",
       "      <th>0</th>\n",
       "      <td>1497</td>\n",
       "      <td>日月 光华 精华区 文章 阅读 发信人 亮马 亮马 信 区 标 题 中华人民共和国 公路 ...</td>\n",
       "      <td>traffic</td>\n",
       "    </tr>\n",
       "    <tr>\n",
       "      <th>1</th>\n",
       "      <td>436</td>\n",
       "      <td>日本 去年 海外 资产 和 负债额 均 创 历史纪录新华社 东京 月 日电 日本 内阁 今...</td>\n",
       "      <td>economic</td>\n",
       "    </tr>\n",
       "    <tr>\n",
       "      <th>2</th>\n",
       "      <td>736</td>\n",
       "      <td>梁斌 黄胄 联袂 在 京 举办 画展新华社 北京 月 日电 记者 尹鸿祝 河北省 蠡县梁庄...</td>\n",
       "      <td>art</td>\n",
       "    </tr>\n",
       "    <tr>\n",
       "      <th>3</th>\n",
       "      <td>2673</td>\n",
       "      <td>记者来信 乱 降价 也 有害新华社 北京 月 日电 记者来信 乱 降价 也 有害新华社 记...</td>\n",
       "      <td>economic</td>\n",
       "    </tr>\n",
       "    <tr>\n",
       "      <th>4</th>\n",
       "      <td>2266</td>\n",
       "      <td>巴解 愿同 叙利亚 和解新华社 开罗 月 日电 巴勒斯坦解放组织 主席 阿拉法特 的 高级...</td>\n",
       "      <td>politics</td>\n",
       "    </tr>\n",
       "  </tbody>\n",
       "</table>\n",
       "</div>"
      ],
      "text/plain": [
       "   Unnamed: 0                                               text  category\n",
       "0        1497   日月 光华 精华区 文章 阅读 发信人 亮马 亮马 信 区 标 题 中华人民共和国 公路 ...   traffic\n",
       "1         436   日本 去年 海外 资产 和 负债额 均 创 历史纪录新华社 东京 月 日电 日本 内阁 今...  economic\n",
       "2         736   梁斌 黄胄 联袂 在 京 举办 画展新华社 北京 月 日电 记者 尹鸿祝 河北省 蠡县梁庄...       art\n",
       "3        2673   记者来信 乱 降价 也 有害新华社 北京 月 日电 记者来信 乱 降价 也 有害新华社 记...  economic\n",
       "4        2266   巴解 愿同 叙利亚 和解新华社 开罗 月 日电 巴勒斯坦解放组织 主席 阿拉法特 的 高级...  politics"
      ]
     },
     "execution_count": 1051,
     "metadata": {},
     "output_type": "execute_result"
    }
   ],
   "source": [
    "data_df.head()\n"
   ]
  },
  {
   "cell_type": "code",
   "execution_count": 1008,
   "metadata": {},
   "outputs": [
    {
     "name": "stdout",
     "output_type": "stream",
     "text": [
      "Samples with text null: 0\n"
     ]
    }
   ],
   "source": [
    "##### Checking text column for null value\n",
    "print(f\"Samples with text null: {data_df.loc[data_df['text'].isnull()].shape[0]}\")"
   ]
  },
  {
   "cell_type": "code",
   "execution_count": 1009,
   "metadata": {},
   "outputs": [
    {
     "name": "stdout",
     "output_type": "stream",
     "text": [
      "Samples with category null: 0\n"
     ]
    }
   ],
   "source": [
    "##### Checking category column for null value\n",
    "print(f\"Samples with category null: {data_df.loc[data_df['category'].isnull()].shape[0]}\")"
   ]
  },
  {
   "cell_type": "code",
   "execution_count": 1052,
   "metadata": {},
   "outputs": [],
   "source": [
    "########## Function for checking graphical representation of categories in data\n",
    "\n",
    "def plot_count(feature, title, df, size=1):\n",
    "    f, ax = plt.subplots(1,1, figsize=(10*size,4))\n",
    "    total = float(len(df))\n",
    "    g = sns.countplot(df[feature], order = df[feature].value_counts().index[:20], palette='Set3')\n",
    "    g.set_title(\"Number and percentage of {}\".format(title))\n",
    "\n",
    "    if(size > 2):\n",
    "        plt.xticks(rotation=90, size=8)\n",
    "    for p in ax.patches:\n",
    "        height = p.get_height()\n",
    "        ax.text(p.get_x()+p.get_width()/2.,\n",
    "                height + 3,\n",
    "                '{:1.2f}%'.format(100*height/total),\n",
    "                ha=\"center\") \n",
    "    ax.set_xticklabels(ax.get_xticklabels());\n",
    "    \n",
    "    plt.show()"
   ]
  },
  {
   "cell_type": "code",
   "execution_count": 1053,
   "metadata": {},
   "outputs": [
    {
     "data": {
      "image/png": "[encoded data removed]",
      "text/plain": [
       "<Figure size 864x288 with 1 Axes>"
      ]
     },
     "metadata": {},
     "output_type": "display_data"
    }
   ],
   "source": [
    "plot_count('category', 'category (all data)', df=data_df,size=1.2)"
   ]
  },
  {
   "cell_type": "code",
   "execution_count": 1054,
   "metadata": {},
   "outputs": [
    {
     "name": "stdout",
     "output_type": "stream",
     "text": [
      "0    0\n",
      "1    1\n",
      "2    2\n",
      "3    1\n",
      "4    3\n",
      "Name: category, dtype: int64\n",
      "Index(['traffic', 'economic', 'art', 'politics', 'medical', 'computer',\n",
      "       'military', 'sports', 'education', 'environment'],\n",
      "      dtype='object')\n"
     ]
    }
   ],
   "source": [
    "#### Creating the dependent variable class : convert text category to integer because machine learnign understand numbers ####\n",
    "factor = pd.factorize(data_df['category'])\n",
    "data_df.category = factor[0]\n",
    "definitions = factor[1]\n",
    "print(data_df.category.head(5))\n",
    "print(definitions)"
   ]
  },
  {
   "cell_type": "markdown",
   "metadata": {},
   "source": [
    "# Feature engineering"
   ]
  },
  {
   "cell_type": "code",
   "execution_count": 1055,
   "metadata": {},
   "outputs": [],
   "source": [
    "#### Splitting data in test and train set #####\n",
    "train_df, test_df = train_test_split(data_df, test_size = 0.3, random_state = 42,shuffle=True)"
   ]
  },
  {
   "cell_type": "code",
   "execution_count": 1056,
   "metadata": {},
   "outputs": [
    {
     "name": "stdout",
     "output_type": "stream",
     "text": [
      "train: (1750, 3), test: (750, 3)\n"
     ]
    }
   ],
   "source": [
    "#### Verifying the Shape of the data\n",
    "print(f\"train: {train_df.shape}, test: {test_df.shape}\")"
   ]
  },
  {
   "cell_type": "code",
   "execution_count": 1057,
   "metadata": {},
   "outputs": [
    {
     "data": {
      "image/png": "[encoded data removed]",
      "text/plain": [
       "<Figure size 864x288 with 1 Axes>"
      ]
     },
     "metadata": {},
     "output_type": "display_data"
    }
   ],
   "source": [
    "##### Check if data in both test and train properly distributed   ###########\n",
    "\n",
    "plot_count('category', 'category (train)', df=train_df,size=1.2)"
   ]
  },
  {
   "cell_type": "code",
   "execution_count": 1058,
   "metadata": {},
   "outputs": [
    {
     "data": {
      "image/png": "[encoded data removed]",
      "text/plain": [
       "<Figure size 864x288 with 1 Axes>"
      ]
     },
     "metadata": {},
     "output_type": "display_data"
    }
   ],
   "source": [
    "plot_count('category', 'category (test)', df=test_df,size=1.2)"
   ]
  },
  {
   "cell_type": "code",
   "execution_count": 1037,
   "metadata": {},
   "outputs": [],
   "source": []
  },
  {
   "cell_type": "code",
   "execution_count": 1059,
   "metadata": {},
   "outputs": [],
   "source": [
    "####### CountVectorizer to create document of matrix ###########\n",
    "\n",
    "def count_vect_feature(feature, df, max_features=5000):\n",
    "    start_time = time.time()\n",
    "    cv = CountVectorizer(max_features=max_features,\n",
    "                             ngram_range=(1, 1),\n",
    "                             stop_words='english')\n",
    "    cv.fit(df[feature])\n",
    "    \n",
    "    \n",
    "    \n",
    "    \n",
    "    # summarize\n",
    "    print(cv.vocabulary_)\n",
    "    # encode document\n",
    "    X_feature = cv.transform(df[feature])\n",
    "    # summarize encoded vector\n",
    "    print(X_feature.shape)\n",
    "    print(type(X_feature))\n",
    "    print(X_feature.toarray())\n",
    "    \n",
    "    \n",
    "    print('Count Vectorizer `{}` completed in {} sec.'.format(feature, round(time.time() - start_time,2)))\n",
    "    return X_feature, cv"
   ]
  },
  {
   "cell_type": "code",
   "execution_count": 1060,
   "metadata": {},
   "outputs": [
    {
     "name": "stdout",
     "output_type": "stream",
     "text": [
      "{'全国': 336, '足球': 1797, '济南': 1337, '赛区': 1784, '日电': 1148, '记者': 1730, '今晚': 227, '比赛': 1300, '分钟': 411, '还有': 1827, '终于': 1577, '一场': 12, '战胜': 992, '参加': 518, '这个': 1830, '上海': 57, '广东': 870, '辽宁': 1809, '整个': 1103, '结束': 1590, '首都': 1981, '时代': 1153, '北京': 474, '离开': 1498, '音乐': 1955, '人们': 202, '感到': 959, '今天': 223, '举行': 150, '这位': 1833, '正是': 1283, '一位': 7, '时候': 1154, '江泽民': 1315, '总书记': 941, '希望': 847, '文化部': 1109, '单位': 492, '作为': 280, '中国': 116, '成立': 976, '我国': 981, '自己': 1645, '培养': 649, '代表': 236, '独特': 1397, '艺术': 1661, '感觉': 962, '创作': 415, '那里': 1884, '歌曲': 1277, '具有': 372, '广泛': 876, '影响': 921, '荣获': 1673, '国内': 615, '首次': 1979, '评选': 1748, '近年来': 1823, '为了': 133, '纪念': 1568, '先生': 327, '观众': 1704, '留下': 1443, '深刻': 1353, '话剧': 1752, '歌剧': 1276, '精神': 1557, '需要': 1943, '国家': 619, '民族': 1308, '水准': 1311, '突出': 1521, '尽管': 805, '得到': 927, '收到': 1074, '主席': 141, '完成': 755, '多年': 691, '大部分': 711, '经验': 1588, '理论': 1417, '尚未': 800, '个人': 110, '作品': 282, '音乐会': 1956, '全部': 343, '舞台': 1656, '夫人': 715, '即使': 504, '那么': 1880, '那样': 1882, '那些': 1881, '中央': 120, '领导': 1967, '有关': 1199, '方面': 1136, '负责人': 1766, '医院': 483, '表示': 1694, '治理': 1324, '企业': 252, '开设': 896, '通知': 1866, '资金': 1783, '今年': 226, '月底': 1196, '统一': 1596, '当地': 913, '重新': 1899, '办理': 452, '同时': 577, '自行': 1650, '各类': 568, '贷款': 1775, '现象': 1412, '银行': 1910, '系统': 1560, '组织': 1576, '大批': 707, '清理': 1359, '由于': 1429, '协调': 491, '结果': 1593, '西方': 1699, '全市': 337, '联合': 1627, '实行': 765, '制度': 431, '集体': 1937, '个体': 111, '正式': 1282, '建立': 885, '一切': 8, '活动': 1334, '必须': 933, '基本': 655, '进行': 1847, '非法': 1947, '最高': 1194, '金融': 1904, '机构': 1230, '罚款': 1609, '立即': 1525, '多个': 686, '知识': 1478, '新闻': 1129, '伊拉克': 254, '战争': 985, '使用': 289, '精确': 1556, '制导': 430, '弹药': 903, '引进': 900, '先进': 328, '技术': 1011, '效果': 1089, '各种': 567, '采用': 1896, '炸弹': 1377, '它们': 749, '能力': 1637, '很大': 924, '提高': 1063, '例如': 290, '直接': 1458, '攻击': 1082, '分别': 408, '结构': 1591, '对付': 783, '一般': 35, '最新': 1191, '研制': 1481, '一种': 30, '专门': 90, '针对': 1906, '目标': 1454, '设计': 1739, '空军': 1517, '海军': 1342, '一次': 26, '试验': 1751, '相当于': 1467, '地面': 638, '考虑': 1620, '目前': 1452, '常规': 852, '导弹': 789, '保证': 303, '良好': 1660, '特性': 1390, '一半': 9, '产生': 199, '破坏': 1486, '改进': 1078, '机械': 1231, '功能': 453, '以来': 246, '美军': 1611, '一直': 29, '研究': 1482, '新型': 1125, '这种': 1838, '能够': 1639, '距离': 1798, '根据': 1263, '最佳': 1187, '达到': 1810, '最大': 1189, '开始': 891, '估计': 269, '验证': 1986, '可能': 561, '特别': 1388, '适合': 1851, '指挥': 1032, '中心': 125, '科技': 1501, '香港': 1982, '电台': 1431, '消息': 1346, '台湾': 562, '通过': 1871, '确定': 1490, '陆军': 1926, '军队': 380, '日月': 1145, '光华': 329, '精华区': 1554, '文章': 1114, '阅读': 1919, '发信人': 530, '服务器': 1211, '应用': 880, '知道': 1479, '安装': 752, '软件': 1805, '服务': 1210, '实际上': 768, '如果': 731, '我们': 980, '不断': 78, '修改': 311, '或者': 984, '控制': 1049, '运行': 1821, '程序': 1510, '因此': 606, '简单': 1548, '开发': 890, '所有': 994, '用户': 1427, '提供': 1058, '这些': 1832, '机器': 1228, '产品': 198, '测试': 1336, '网络': 1608, '进程': 1846, '一旦': 22, '最终': 1192, '之后': 155, '负责': 1765, '数据': 1100, '转移': 1804, '工作': 822, '安排': 751, '因为': 605, '大量': 712, '错误': 1912, '问题': 1918, '崩溃': 816, '另外': 554, '专用': 89, '计算机': 1722, '原因': 512, '最好': 1190, '不要': 82, '接触': 1047, '一个': 4, '通常': 1864, '所以': 993, '安全': 750, '两种': 107, '他们': 232, '相应': 1465, '情况': 953, '涉及': 1350, '一样': 25, '保护': 300, '各自': 570, '危险': 503, '特点': 1392, '来源': 1244, '返回': 1825, '一页': 40, '讨论区': 1727, '日本': 1146, '年度': 867, '国际': 625, '经常': 1579, '大幅度': 706, '东京': 98, '公布': 349, '表明': 1691, '亿美元': 219, '减少': 393, '主要': 147, '进口': 1843, '增加': 661, '其中': 365, '贸易': 1776, '有助于': 1202, '消除': 1349, '外国': 681, '教育': 1098, '三年': 48, '时期': 1155, '街道': 1690, '人口': 204, '改革开放': 1081, '人民': 212, '发挥': 538, '优势': 257, '社会': 1494, '经济': 1580, '发展': 535, '综合': 1602, '实力': 762, '先后': 326, '卫生': 498, '体育': 279, '事业': 173, '获得': 1678, '农村': 382, '改革': 1080, '中小学': 123, '校园': 1260, '进入': 1842, '新世纪': 1122, '市委': 840, '市政府': 841, '提出': 1059, '实施': 763, '战略': 991, '建设': 889, '素质': 1561, '全面': 344, '贯彻': 1774, '重要': 1901, '思想': 938, '国务院': 617, '关于': 359, '努力': 466, '现有': 1410, '小学': 795, '在校学生': 631, '教师': 1094, '培训': 651, '以上': 239, '乡镇': 164, '人数': 209, '万人': 42, '成人': 967, '高校': 1991, '自学': 1644, '考试': 1621, '专业': 87, '人次': 211, '突破': 1523, '师生': 846, '群体': 1615, '事故': 178, '发生': 540, '指标': 1034, '范围': 1672, '各项': 571, '进一步': 1841, '落实': 1682, '普及': 1173, '实验': 769, '省级': 1471, '初中': 420, '学校': 743, '素质教育': 1562, '核心': 1262, '取得': 545, '开展': 892, '基础教育': 658, '课程': 1758, '广大': 873, '一批': 19, '论文': 1733, '教学质量': 1093, '初步': 422, '体系': 278, '形成': 919, '评价': 1744, '激励': 1374, '布局': 845, '调整': 1760, '优化': 258, '期间': 1214, '任务': 251, '高中': 1988, '阶段': 1924, '确保': 1489, '质量': 1772, '领先': 1965, '位置': 273, '职业': 1625, '重点': 1900, '招生': 1027, '就业': 802, '特色': 1393, '局面': 807, '自我': 1646, '机制': 1226, '培育': 650, '办学': 450, '精品': 1555, '扩大': 1004, '成效': 972, '抓好': 1012, '层次': 808, '水平': 1312, '改善': 1077, '工程': 826, '促使': 297, '体制改革': 276, '加快': 459, '吸引': 586, '民间': 1309, '资本': 1780, '参与': 517, '加强': 458, '力量': 447, '规范': 1715, '引导': 898, '争取': 171, '创办': 416, '一所': 18, '继续': 1599, '推进': 1055, '项目': 1957, '渠道': 1360, '经费': 1586, '万元': 43, '集中': 1936, '成果': 974, '公司': 347, '管理': 1550, '生产': 1419, '领域': 1966, '利润': 424, '空间': 1520, '产值': 197, '总统': 947, '杨尚昆': 1249, '今天下午': 225, '共和国': 357, '会谈': 264, '发言人': 543, '介绍': 228, '热情': 1378, '友好': 523, '气氛': 1310, '透露': 1859, '来访': 1247, '双方': 526, '机会': 1224, '朋友': 1209, '支持': 1072, '恢复': 950, '地位': 632, '世界': 92, '各国': 565, '关系': 362, '伟大': 265, '之外': 156, '政府': 1085, '给予': 1595, '热烈': 1379, '欢迎': 1272, '接待': 1046, '这次': 1837, '目的': 1455, '一是': 23, '认识': 1725, '共同': 356, '关心': 360, '推动': 1051, '友好合作': 524, '二是': 179, '及其': 521, '三是': 49, '看看': 1475, '了解': 169, '学习': 740, '相信': 1461, '访问': 1741, '一定': 15, '并且': 869, '一致': 34, '认为': 1723, '两国': 102, '有利于': 1200, '合作': 572, '最近': 1193, '召开': 559, '会议': 263, '原则': 511, '基础': 657, '更大': 1180, '地区': 633, '深入': 1352, '交换': 191, '意见': 957, '外长': 684, '秘书长': 1503, '外交部': 680, '部长': 1887, '大使': 696, '电脑': 1435, '垃圾': 642, '带来': 850, '就是': 803, '信息': 308, '资料': 1779, '无疑': 1140, '促进': 298, '军事': 379, '起到': 1788, '积极': 1505, '作用': 285, '然而': 1381, '科学': 1500, '数据库': 1101, '容量': 780, '过去': 1813, '看来': 1473, '落后': 1681, '许多': 1732, '变得': 550, '困难': 614, '时间': 1157, '越来越': 1794, '意识': 958, '一点': 28, '一些': 5, '有效': 1204, '措施': 1056, '解决': 1717, '这一': 1829, '互联网': 183, '专家': 88, '不会': 68, '用于': 1426, '制造': 433, '几年': 396, '相当': 1466, '全球': 340, '每天': 1296, '一家': 16, '只要': 558, '病毒': 1447, '内存': 374, '干扰': 854, '正常': 1281, '严重': 109, '公共': 346, '政治': 1086, '一起': 37, '甚至': 1418, '互联网络': 184, '孩子': 748, '看到': 1472, '文件': 1105, '说明': 1755, '打开': 1001, '显示': 1169, '行为': 1686, '状态': 1395, '电子': 1432, '地址': 634, '任何': 250, '自动': 1643, '途径': 1862, '对此': 786, '没有': 1322, '内容': 375, '十分': 484, '健美': 321, '大赛': 710, '开放': 895, '区域': 479, '一大批': 13, '来自': 1246, '客人': 772, '喜欢': 601, '事情': 177, '这里': 1839, '设施': 1735, '完善': 754, '地方': 635, '变成': 551, '愿意': 963, '生活': 1424, '这样': 1836, '方式': 1132, '有些': 1197, '同样': 579, '不再': 70, '年轻': 868, '中间': 128, '肌肉': 1633, '虽然': 1684, '起来': 1789, '什么': 220, '几个': 394, '不同': 74, '角度': 1716, '展示': 812, '往往': 922, '可以': 560, '发现': 539, '中国队': 118, '品牌': 593, '形象': 920, '显然': 1167, '其实': 368, '不错': 85, '不足': 83, '正在': 1280, '一下': 3, '停止': 319, '威胁': 737, '突然': 1522, '挑战': 1036, '尤其': 801, '多少': 690, '出来': 400, '表演': 1692, '刚刚': 414, '准备': 392, '两名': 101, '地说': 637, '似乎': 270, '美国': 1612, '月份': 1195, '华盛顿': 488, '宣布': 776, '计算': 1721, '下降': 65, '去年同期': 516, '建筑': 886, '前景': 439, '仍然': 229, '总理': 945, '会见': 262, '重视': 1902, '其它': 367, '阿拉伯': 1925, '公正': 352, '合理': 574, '人民大会堂': 213, '临时': 131, '委员会': 735, '率领': 1400, '革命': 1953, '代表团': 237, '邀请': 1878, '当前': 912, '晚上': 1171, '前来': 440, '为期': 135, '工会': 821, '国民经济': 624, '访华': 1740, '天津': 714, '浙江': 1340, '参观': 519, '法律': 1327, '秩序': 1504, '委员': 734, '文化': 1106, '宣传': 775, '团长': 613, '下午': 62, '抵达': 1020, '机场': 1229, '迎接': 1815, '乐队': 158, '队员': 1921, '价值': 248, '多次': 693, '文艺演出': 1120, '文化局': 1107, '电话': 1438, '艺术团': 1663, '业余': 95, '文艺': 1116, '人才': 208, '部分': 1885, '演员': 1368, '获奖': 1677, '举办': 149, '包括': 472, '群众': 1614, '展出': 810, '广场': 872, '之一': 152, '每年': 1297, '济南市': 1338, '西部': 1701, '一道': 38, '主办': 139, '文艺晚会': 1119, '联系': 1630, '投资': 1014, '组建': 1573, '第一个': 1534, '国内外': 616, '演出': 1367, '通讯员': 1868, '实现': 764, '坚持': 640, '现代化': 1406, '强化': 905, '职工': 1626, '建议': 888, '防止': 1922, '沈阳': 1320, '大学生': 702, '展览': 813, '丰富': 129, '据统计': 1040, '歌舞': 1278, '竞赛': 1528, '如何': 730, '大学': 701, '体现': 277, '结合': 1589, '创造': 419, '女子': 724, '绘画': 1594, '学院': 747, '这是': 1835, '第一次': 1536, '南非': 495, '谈判': 1763, '障碍': 1934, '预计': 1963, '要求': 1702, '人员': 205, '取消': 546, '放弃': 1083, '反对': 527, '计划': 1719, '主张': 142, '差距': 830, '但是': 271, '招待会': 1026, '指出': 1030, '一名': 11, '证明': 1742, '公民': 353, '态度': 935, '与此同时': 86, '声明': 673, '条约': 1242, '反应': 528, '民主德国': 1307, '货币': 1771, '联盟': 1629, '纷纷': 1570, '报道': 1019, '这项': 1840, '历史': 509, '事件': 174, '市场': 838, '德国': 929, '民主': 1306, '压力': 510, '接受': 1044, '人士': 207, '来说': 1248, '社会主义': 1495, '联邦德国': 1632, '前提': 438, '条件': 1240, '图书馆': 627, '大型': 698, '图书': 626, '现场': 1408, '读者': 1756, '选择': 1856, '地点': 636, '冠名': 385, '面积': 1952, '平方米': 860, '意义': 954, '全年': 338, '专题': 91, '评为': 1743, '本次': 1221, '文物': 1113, '其他': 366, '博物馆': 496, '日至': 1150, '公里': 355, '商家': 599, '卷心菜': 507, '保护环境': 301, '随手': 1932, '小事': 793, '发信站': 531, '信件': 305, '动物': 465, '有人': 1198, '市级': 843, '于是': 181, '大家': 703, '令人': 238, '行动': 1687, '才能': 998, '不能': 81, '夺得': 720, '曼谷': 1184, '昨天': 1162, '选手': 1855, '金牌': 1903, '银牌': 1909, '亚运会': 190, '引起': 899, '公斤': 351, '泰国': 1332, '明显': 1159, '对手': 785, '维持': 1601, '小时': 796, '讨论': 1726, '今后': 222, '出现': 402, '类似': 1552, '后来': 583, '决赛': 390, '韩国': 1954, '男子': 1439, '出色': 403, '冠军': 384, '越南': 1793, '铜牌': 1908, '莫斯科': 1676, '报纸': 1018, '决定': 388, '苏联': 1669, '削减': 436, '之前': 154, '剧场': 443, '报价': 1016, '祖国': 1497, '京剧': 201, '艺术节': 1665, '组成': 1574, '具备': 371, '满足': 1366, '多种': 694, '需求': 1942, '国家级': 620, '好评': 726, '剧团': 442, '强调': 908, '柬埔寨': 1256, '高级': 1993, '新华社': 1124, '作战': 284, '部队': 1889, '此外': 1285, '生存': 1422, '去年': 515, '不少': 76, '欧洲': 1274, '现在': 1407, '完全': 753, '大约': 708, '多名': 688, '是因为': 1165, '告诉': 588, '士兵': 670, '日益': 1149, '之间': 157, '成为': 966, '独立': 1398, '自由': 1649, '和平': 592, '未来': 1215, '理念': 1414, '制定': 429, '已经': 832, '游戏': 1361, '还是': 1826, '微软': 928, '而言': 1624, '硬件': 1487, '系列': 1559, '航母': 1658, '产业': 196, '竞争': 1526, '称为': 1508, '推出': 1050, '环境': 1402, '大会': 695, '当时': 915, '启动': 585, '从而': 231, '仅仅': 221, '两个': 100, '无论是': 1142, '摆脱': 1068, '资源': 1782, '超越': 1790, '转化': 1801, '本身': 1223, '信号': 306, '将会': 791, '厂商': 508, '战场': 986, '具体': 370, '自主': 1642, '适应': 1852, '等等': 1544, '商业': 596, '必要': 932, '方向': 1131, '不过': 84, '然后': 1380, '效应': 1088, '定义': 761, '理解': 1416, '趋势': 1795, '如此': 732, '基于': 652, '年初': 864, '据悉': 1039, '谈到': 1764, '所谓': 995, '笔者': 1529, '的话': 1449, '预赛': 1964, '受伤': 547, '使得': 288, '教练': 1097, '状况': 1394, '动作': 462, '无法': 1139, '最后': 1188, '击败': 405, '感染': 961, '法国': 1326, '经济学家': 1583, '分析': 409, '教授': 1095, '稳定': 1513, '如下': 728, '预期': 1960, '是否': 1164, '应该': 882, '干预': 856, '价格': 249, '工资': 827, '存在': 739, '导致': 790, '利用': 426, '应当': 878, '采取': 1895, '周期': 590, '财政政策': 1769, '观点': 1707, '强烈': 907, '私人': 1499, '部门': 1888, '而且': 1622, '允许': 323, '掌握': 1042, '稳定性': 1514, '纳入': 1569, '传统': 267, '宏观': 757, '模型': 1270, '缺乏': 1606, '拥有': 1028, '受到': 548, '限制': 1928, '做出': 315, '政策': 1087, '决策': 389, '供给': 291, '冲击': 386, '在于': 629, '劳动力': 468, '支出': 1071, '规模': 1714, '商品': 597, '保持': 302, '充分': 324, '比较': 1301, '为此': 136, '推广': 1052, '首先': 1977, '利率': 425, '债务': 312, '比例': 1298, '增长': 666, '为主': 132, '其次': 369, '相同': 1463, '注意': 1330, '总是': 944, '另一方面': 553, '按照': 1035, '造成': 1873, '速度': 1872, '变化': 549, '正确': 1284, '面对': 1951, '怎样': 937, '亚洲': 187, '宏观经济': 758, '城市': 647, '研究所': 1483, '信息技术': 309, '印度': 500, '关注': 361, '软件业': 1806, '迅速': 1812, '基地': 653, '国外': 618, '成就': 971, '增强': 663, '年代': 863, '成绩': 977, '超过': 1791, '同期': 578, '增长率': 667, '只有': 556, '强劲': 904, '收入': 1073, '接近': 1048, '制造业': 434, '后期': 582, '出口': 398, '带动': 848, '比重': 1302, '上升': 52, '对于': 782, '处于': 674, '非常': 1946, '观察': 1705, '全世界': 333, '一部分': 39, '万美元': 45, '还要': 1828, '数字': 1099, '描述': 1057, '几乎': 395, '活力': 1333, '行业': 1685, '只能': 557, '配件': 1890, '相关': 1462, '五年': 185, '创新': 418, '高度': 1990, '管制': 1549, '替代': 1186, '企业家': 253, '代价': 233, '刺激': 435, '数量': 1102, '标志': 1258, '通信': 1863, '一项': 41, '以及': 243, '降低': 1927, '特殊': 1391, '两年': 105, '依靠': 295, '设备': 1734, '竞争力': 1527, '鼓励': 1997, '形式': 918, '东亚': 97, '工业化': 819, '推行': 1054, '只是': 555, '多数': 692, '官员': 759, '也许': 163, '事实上': 176, '同意': 576, '曾经': 1185, '真正': 1476, '面临': 1948, '卫星': 497, '批准': 1007, '基础设施': 659, '高速': 1995, '连接': 1848, '因特网': 607, '在内': 630, '承担': 1009, '三个': 47, '一年': 17, '四个': 602, '反映': 529, '避免': 1877, '权力': 1237, '共有': 358, '规划': 1709, '各个': 564, '有限公司': 1208, '集团': 1938, '新加坡': 1123, '引入': 897, '中期': 127, '步伐': 1288, '一系列': 32, '协会': 489, '大力': 697, '比如': 1299, '过程': 1814, '工业': 818, '区别': 478, '模式': 1271, '海外': 1344, '唯一': 595, '学者': 746, '不是': 79, '理想': 1415, '转变': 1802, '一支': 20, '英语': 1671, '相对': 1464, '劳动': 467, '值得': 313, '低于': 274, '墨西哥': 669, '发展中国家': 536, '美元': 1610, '操作系统': 1070, '平台': 857, '操作': 1069, '维护': 1600, '以前': 242, '合同': 573, '配备': 1892, '因而': 609, '投入': 1013, '代码': 235, '方法': 1134, '动力': 463, '帮助': 851, '至少': 1655, '更为': 1178, '程度': 1511, '汇率': 1314, '逐渐': 1861, '很快': 926, '标准': 1257, '加上': 454, '工人': 820, '业务': 96, '外部': 683, '一方面': 21, '作出': 281, '因素': 608, '老板': 1617, '长期': 1915, '经营': 1585, '风险': 1972, '方案': 1133, '解释': 1718, '为什么': 134, '高质量': 1994, '根本': 1264, '遇到': 1874, '诞生': 1753, '版本': 1385, '兼容': 373, '容易': 779, '营销': 1680, '手段': 997, '处理': 675, '以往': 245, '赢得': 1785, '执行': 1003, '而是': 1623, '大大': 700, '相比': 1468, '左右': 828, '每个': 1295, '平均': 858, '以色列': 247, '人均': 206, '发达国家': 544, '调查': 1761, '更是': 1183, '英国': 1670, '潜力': 1370, '有限': 1207, '升级': 486, '依然': 294, '菲律宾': 1679, '主任': 137, '全球化': 341, '转向': 1803, '规定': 1711, '疾病': 1445, '患者': 952, '治疗': 1325, '检查': 1266, '拒绝': 1025, '道路': 1876, '旅客': 1137, '运输': 1822, '汽车': 1319, '客运': 774, '公路': 354, '中山': 124, '车站': 1799, '交通': 193, '友谊': 525, '旅游': 1138, '铁路': 1907, '大小': 704, '列车': 413, '第一': 1533, '展开': 811, '纪录': 1567, '训练': 1728, '首脑会议': 1980, '指导': 1031, '签署': 1546, '成员国': 970, '制订': 432, '对外': 784, '拉美': 1023, '斗争': 1121, '小组': 797, '武器': 1290, '销售': 1911, '杂志': 1235, '病人': 1446, '浓度': 1339, '混合': 1356, '优秀': 259, '运动会': 1817, '运动员': 1818, '山东': 815, '本届': 1219, '级别': 1566, '整体': 1104, '心理': 930, '不够': 75, '力度': 446, '更加': 1179, '上级': 59, '应有': 879, '强大': 906, '此次': 1286, '武汉': 1291, '积极性': 1506, '设立': 1737, '评审': 1746, '工厂': 825, '课题': 1759, '进步': 1845, '吸收': 587, '重大': 1898, '死亡': 1293, '巴勒斯坦': 833, '经过': 1587, '已有': 831, '公众': 345, '持续': 1029, '再次': 378, '发表': 542, '讲话': 1731, '位于': 272, '建筑面积': 887, '亿元': 218, '人民币': 214, '建成': 884, '一流': 27, '相结合': 1469, '覆盖': 1703, '教材': 1096, '全校': 339, '学生': 744, '健康': 320, '幅度': 853, '设置': 1738, '中学': 121, '充分发挥': 325, '教学': 1092, '家长': 778, '校长': 1261, '有力': 1201, '研讨会': 1485, '队伍': 1920, '我市': 982, '注重': 1331, '提升': 1062, '内涵': 376, '思路': 939, '提前': 1061, '试点': 1750, '现代': 1405, '逐步': 1860, '率先': 1399, '加入': 456, '交流': 192, '首届': 1978, '成员': 969, '澳大利亚': 1372, '设有': 1736, '奖励': 721, '内部': 377, '探索': 1043, '配套': 1893, '保障': 304, '农业': 381, '第二': 1540, '经济体制': 1581, '国有企业': 622, '更好': 1181, '第三': 1538, '随着': 1933, '前进': 441, '加大': 457, '环保': 1401, '予以': 170, '国民': 623, '日起': 1151, '奥地利': 722, '庆祝': 877, '签订': 1547, '周年': 589, '一天': 14, '找到': 1008, '不可': 73, '表现': 1693, '东西': 99, '上午': 53, '第十一届': 1542, '以便': 241, '组委会': 1572, '厦门': 514, '协议': 490, '大陆': 713, '事务': 175, '办公室': 448, '认真': 1724, '方针': 1135, '部署': 1886, '通用': 1865, '电视台': 1437, '形势': 917, '有所': 1203, '好转': 727, '缓解': 1603, '调节': 1762, '及时': 522, '上半年': 54, '统计': 1597, '城镇': 648, '物价': 1386, '居民': 809, '缩小': 1605, '矛盾': 1477, '效益': 1091, '总量': 948, '除了': 1929, '适当': 1853, '办法': 451, '以下': 240, '能源': 1640, '乡镇企业': 165, '不得': 77, '各地': 566, '会晤': 261, '时说': 1156, '达成': 1811, '土地': 628, '联合国': 1628, '监督': 1450, '足够': 1796, '即将': 506, '领导人': 1968, '损害': 1038, '利益': 427, '战术': 989, '农民': 383, '属于': 814, '锦标赛': 1913, '古巴': 552, '南朝鲜': 494, '巴西': 836, '意大利': 956, '加拿大': 460, '埃及': 645, '上述': 61, '联邦': 1631, '西藏': 1700, '采访': 1897, '很少': 925, '来到': 1243, '珠峰': 1413, '商店': 600, '家庭': 777, '某些': 1255, '确实': 1491, '很多': 923, '通讯': 1867, '以后': 244, '局部': 806, '扩张': 1006, '饮食': 1976, '严格': 108, '出血': 404, '日前': 1144, '体制': 275, '分为': 407, '快速': 934, '动态': 464, '配合': 1891, '沟通': 1321, '办好': 449, '高等教育': 1992, '世纪': 94, '各级': 569, '能否': 1638, '回答': 604, '深化': 1354, '学科': 745, '主动': 140, '适用': 1854, '实验室': 770, '关键': 363, '出发': 397, '通货紧缩': 1869, '作者': 286, '财政': 1768, '实际': 767, '百分点': 1448, '消费者': 1348, '指数': 1033, '恶化': 951, '上市': 55, '景气': 1176, '连续': 1849, '中国政府': 117, '发行': 541, '预算': 1962, '九五': 162, '中华人民共和国': 115, '显着': 1168, '国有': 621, '确立': 1492, '组成部分': 1575, '肯定': 1635, '李鹏': 1238, '机遇': 1234, '干部': 855, '十年': 485, '不但': 69, '城乡': 646, '现实': 1409, '桥梁': 1265, '振兴': 1037, '当然': 916, '从事': 230, '物质': 1387, '经济效益': 1584, '承认': 1010, '改变': 1076, '中有': 126, '毕业生': 1304, '不仅': 66, '相互': 1460, '克服': 330, '结构调整': 1592, '搞好': 1066, '预测': 1961, '两次': 106, '邓小平': 1879, '同志': 575, '巨大': 829, '类型': 1553, '普遍': 1175, '符合': 1532, '责任': 1770, '坚决': 639, '切实': 412, '主体': 138, '对象': 787, '中外': 119, '依法': 293, '费用': 1777, '贡献': 1767, '较大': 1807, '团体': 610, '做到': 316, '市场经济': 839, '考核': 1619, '自身': 1652, '机关': 1225, '科研': 1502, '基层': 654, '评估': 1745, '审批': 771, '总结': 946, '成本': 973, '否则': 584, '树立': 1259, '精神文明': 1558, '明确': 1160, '总体': 943, '永远': 1313, '不到': 72, '追求': 1850, '你们': 287, '是从': 1163, '紧张': 1563, '第三名': 1539, '此间': 1287, '笔记本电脑': 1531, '购买': 1773, '代理': 234, '这么': 1831, '便宜': 296, '一台': 10, '机身': 1233, '主板': 144, '笔记本': 1530, '满意': 1365, '机箱': 1232, '完整': 756, '生命': 1421, '规格': 1713, '就要': 804, '包含': 470, '硬盘': 1488, '普通': 1174, '原来': 513, '驱动程序': 1983, '鼠标': 1998, '上网': 60, '消费': 1347, '一份': 6, '走出': 1786, '上海市': 58, '产量': 200, '中华': 114, '尊重': 792, '权利': 1236, '临床': 130, '亚运': 189, '运动': 1816, '奥运会': 723, '信心': 307, '争夺': 172, '开幕式': 894, '策略': 1545, '配置': 1894, '推荐': 1053, '主流': 145, '芯片': 1667, '选用': 1857, '芯片组': 1668, '如今': 729, '经历': 1578, '显卡': 1166, '早期': 1152, '性能': 940, '显示器': 1170, '频率': 1969, '多媒体': 689, '接口': 1045, '声卡': 672, '继承': 1598, '电源': 1434, '键盘': 1914, '工具': 824, '成熟': 975, '外频': 685, '制作': 428, '方便': 1130, '超频': 1792, '成功': 968, '带宽': 849, '不用': 80, '清楚': 1357, '处理器': 676, '集成': 1939, '发布': 537, '自然': 1648, '面向': 1949, '加速': 461, '10': 0, '即可': 505, '担任': 1021, '观念': 1706, '概念': 1269, '大多数': 699, '媒体': 738, '海洋': 1345, '欣赏': 1273, '传播': 266, '来看': 1245, '平衡': 862, '垄断': 643, '观看': 1708, '高于': 1989, '电影': 1433, '人格': 210, '舞蹈': 1657, '节目': 1666, '第四': 1543, '经济学': 1582, '出席': 399, '剧院': 445, '示范': 1493, '剧目': 444, '特征': 1389, '艺术家': 1664, '难以': 1935, '密切': 781, '激烈': 1375, '繁荣': 1565, '进展': 1844, '本国': 1217, '更新': 1182, '运用': 1819, '积累': 1507, '极大': 1251, '戏剧': 964, '语言': 1754, '两国关系': 103, '西德': 1698, '寻求': 788, '青年': 1945, '目前为止': 1453, '今天上午': 224, '主持': 143, '北京市': 475, '评论': 1747, '装备': 1696, '空中': 1516, '武装': 1292, '直升机': 1457, '飞行员': 1975, '坦克': 641, '识别': 1749, '三种': 50, '战斗': 987, '火力': 1376, '北方': 476, '运营': 1820, '一级': 33, '线路': 1571, '装置': 1697, '新建': 1126, '年底': 866, '累计': 1564, '万吨': 44, '世界杯': 93, '朝鲜': 1213, '平壤': 859, '乒乓球': 159, '男排': 1440, '日本队': 1147, '广州': 874, '青少年': 1944, '滑水': 1364, '工作者': 823, '1394': 1, '那种': 1883, '众多': 256, '下半年': 63, '广播': 875, '构成': 1253, '分配': 410, '一条': 24, '加以': 455, '扩展': 1005, '必然': 931, '半导体': 487, '报告': 1017, '之中': 153, '电视': 1436, '官方': 760, '本地': 1218, '面向对象': 1950, '记录': 1729, '前往': 437, '全省': 342, '澳门': 1373, '药物': 1675, '化学': 473, '现行': 1411, '随后': 1931, '文艺工作者': 1118, '儿童': 322, '曲艺': 1177, '弘扬': 901, '演唱': 1369, '一等奖': 31, '二等奖': 180, '会员': 260, '至今': 1654, '第二届': 1541, '实践': 766, '入选': 332, '颁发': 1959, '摄影': 1067, '俄罗斯': 299, '拍摄': 1024, '照片': 1382, '骨干': 1987, '毕业': 1303, '管理局': 1551, '始终': 733, '抢救': 1015, '三等奖': 51, '考察': 1618, '飞机': 1973, '海上': 1341, '巡航导弹': 817, '潜艇': 1371, '发射': 534, '雷达': 1941, '平等': 861, '应用程序': 881, '创建': 417, '乃至': 151, '复杂': 678, '游泳': 1362, '广东省': 871, '第一名': 1535, '感受': 960, '湖北': 1363, '河南': 1323, '人物': 216, '呼吁': 591, '发出': 532, '做法': 318, '危机': 502, '互相': 182, '冲突': 387, '援助': 1065, '打破': 1002, '市民': 842, '大规模': 709, '改造': 1079, '黎巴嫩': 1996, '多人': 687, '座谈会': 883, '文明': 1112, '开幕': 893, '自觉': 1651, '医疗': 481, '我校': 983, '风格': 1971, '课堂': 1757, '有机': 1205, '失去': 718, '失误': 719, '名将': 581, '名列': 580, '团体赛': 611, '淘汰': 1351, '输入': 1808, '有着': 1206, '近日': 1824, '本报': 1220, '环境保护': 1403, '授予': 1041, '税收': 1512, '森林': 1268, '当局': 914, '中共': 113, '主题': 148, '当代': 911, '文学': 1111, '出版': 401, '声乐': 671, '美术': 1613, '书法': 166, '门类': 1917, '中学生': 122, '歌舞团': 1279, '能量': 1641, '怎么': 936, '老师': 1616, '当中': 909, '本人': 1216, '基本上': 656, '打击': 1000, '成长': 978, '污染': 1316, '环境污染': 1404, '作家': 283, '画家': 1441, '医药': 482, '总产值': 942, '省市': 1470, '深圳': 1355, '药品': 1674, '学会': 741, '全体': 334, '全区': 335, '这场': 1834, '新疆': 1127, '不准': 71, '医生': 480, '界面': 1442, '条例': 1241, '外资': 682, '直到': 1456, '北约': 477, '不仅仅': 67, '行政': 1688, '看法': 1474, '初期': 421, '下去': 64, '汲取': 1318, '陷入': 1930, '衰退': 1695, '意味着': 955, '生产总值': 1420, '规律': 1712, '效率': 1090, '倾向': 314, '判断': 423, '依据': 292, '资产': 1778, '伤口': 268, '清洁': 1358, '做好': 317, '包扎': 471, '穆巴拉克': 1515, '犹太人': 1396, '团结': 612, '万里': 46, '委员长': 736, '巴基斯坦': 834, '伊朗': 255, '人类': 217, '提到': 1060, '社区': 1496, '书记': 168, '市长': 844, '杭州': 1250, '明天': 1158, '总额': 949, '生态': 1423, '自治区': 1647, '称号': 1509, '人民政府': 215, '生物': 1425, '规则': 1710, '参赛': 520, '资格': 1781, '亚军': 186, '哈尔滨': 594, '年前': 865, '胜利': 1636, '欧盟': 1275, '上年': 56, '文艺创作': 1117, '文化站': 1108, '车辆': 1800, '放映': 1084, '公开': 350, '主管部门': 146, '文化馆': 1110, '无论': 1141, '活跃': 1335, '晚会': 1172, '艺术创作': 1662, '文联': 1115, '小品': 794, '爱国主义': 1384, '走向': 1787, '网站': 1607, '顺利': 1958, '印尼': 499, '商场': 598, '法规': 1328, '无锡市': 1143, '戏曲': 965, '第七届': 1537, '少年': 798, '书画': 167, '危害': 501, '新课程': 1128, '兴趣': 364, '题材': 1970, '势头': 469, '雕塑': 1940, '污染物': 1317, '空气': 1519, '燃烧': 1383, '人体': 203, '石油': 1480, '材料': 1239, '叶景林': 563, '道德': 1875, '中东': 112, '盖茨': 1451, '由此': 1430, '少数民族': 799, '巴格达': 835, '手术': 996, '防治': 1923, '基金': 660, '一行': 36, '公安部': 348, '当事人': 910, '毫米': 1305, '2000': 2, '担心': 1022, '飞行': 1974, '增长速度': 668, '股市': 1634, '复苏': 679, '泡沫': 1329, '增幅': 662, '增速': 664, '大幅': 705, '回升': 603, '直辖市': 1459, '客车': 773, '金融危机': 1905, '本质': 1222, '增量': 665, '计划生育': 1720, '通货膨胀': 1870, '失业率': 717, '编写': 1604, '交通部': 195, '市区': 837, '构建': 1252, '战斗机': 988, '失业': 716, '步枪': 1289, '发动机': 533, '航空': 1659, '研究生': 1484, '修建': 310, '处罚': 677, '至于': 1653, '疗效': 1444, '用药': 1428, '服用': 1212, '交通管理': 194, '战机': 990, '行李': 1689, '单打': 493, '空战': 1518, '型号': 644, '学员': 742, '驾驶员': 1984, '春天': 1161, '机动车': 1227, '成长率': 979, '长江': 1916, '选购': 1858, '窗口': 1524, '检测': 1267, '海南': 1343, '两岸': 104, '驾驶证': 1985, '弹射': 902, '扎耶德': 999, '女队': 725, '收费': 1075, '克鲁格曼': 331, '乘车': 161, '蒙古': 1683, '乘客': 160, '插件': 1064, '函数': 406, '构架': 1254, '净室': 391, '歼十': 1294, '亚细安': 188}\n"
     ]
    },
    {
     "name": "stdout",
     "output_type": "stream",
     "text": [
      "(1750, 1999)\n",
      "<class 'scipy.sparse.csr.csr_matrix'>\n",
      "[[0 0 0 ... 0 0 0]\n",
      " [0 0 0 ... 0 0 0]\n",
      " [0 0 0 ... 0 0 0]\n",
      " ...\n",
      " [0 0 0 ... 0 0 0]\n",
      " [0 0 0 ... 0 0 0]\n",
      " [0 0 0 ... 0 0 0]]\n",
      "Count Vectorizer `text` completed in 1.77 sec.\n"
     ]
    }
   ],
   "source": [
    "###### Apply Countvectorizer #####\n",
    "X_text, cv = count_vect_feature('text', train_df,max_features=1999)"
   ]
  },
  {
   "cell_type": "code",
   "execution_count": 1061,
   "metadata": {},
   "outputs": [],
   "source": [
    "### Implement TF-IDF transformer\n",
    "tfidfconverter = TfidfTransformer()\n",
    "X_text = tfidfconverter.fit_transform(X_text)"
   ]
  },
  {
   "cell_type": "code",
   "execution_count": 1062,
   "metadata": {},
   "outputs": [],
   "source": [
    "######## Splitting Data in train and validation set  #########\n",
    "\n",
    "target =  'category'\n",
    "X = X_text\n",
    "y = train_df[target].values\n",
    "train_X, valid_X, train_y, valid_y = train_test_split(X, y, test_size = 0.20, random_state = 42,shuffle=True)"
   ]
  },
  {
   "cell_type": "code",
   "execution_count": 1063,
   "metadata": {},
   "outputs": [
    {
     "data": {
      "text/plain": [
       "((1400, 1999), (350, 1999), (1400,), (350,))"
      ]
     },
     "execution_count": 1063,
     "metadata": {},
     "output_type": "execute_result"
    }
   ],
   "source": [
    "train_X.shape, valid_X.shape, train_y.shape, valid_y.shape"
   ]
  },
  {
   "cell_type": "markdown",
   "metadata": {},
   "source": [
    "# Modelling Approach"
   ]
  },
  {
   "cell_type": "code",
   "execution_count": 1064,
   "metadata": {},
   "outputs": [],
   "source": [
    "########## Creating model parameters for GridsearchCV. We can use multiple model\n",
    "########## with diffrent params and after getting best model we can apply for final model\n",
    "\n",
    "model_params = {\n",
    "    'svm': {\n",
    "        'model': svm.SVC(gamma='auto'),\n",
    "        'params' : {\n",
    "            'C': [1,10,20,30],\n",
    "            'kernel': ['rbf','linear']\n",
    "        }  \n",
    "    },\n",
    "    'random_forest': {\n",
    "        'model': RandomForestClassifier(),\n",
    "        'params' : {\n",
    "            'n_estimators': [1,5,10,50,100]\n",
    "        }\n",
    "    },\n",
    "    'logistic_regression' : {\n",
    "        'model': LogisticRegression(solver='liblinear',multi_class='auto'),\n",
    "        'params': {\n",
    "            'C': [1,2,3,4,5,10,11]\n",
    "        }\n",
    "    },\n",
    "    'NaiveByes_regression' : {\n",
    "        'model': MultinomialNB(fit_prior='true'),\n",
    "        'params': {\n",
    "           \n",
    "        }\n",
    "    },\n",
    "    \n",
    "}"
   ]
  },
  {
   "cell_type": "code",
   "execution_count": 1065,
   "metadata": {},
   "outputs": [
    {
     "data": {
      "text/html": [
       "<div>\n",
       "<style scoped>\n",
       "    .dataframe tbody tr th:only-of-type {\n",
       "        vertical-align: middle;\n",
       "    }\n",
       "\n",
       "    .dataframe tbody tr th {\n",
       "        vertical-align: top;\n",
       "    }\n",
       "\n",
       "    .dataframe thead th {\n",
       "        text-align: right;\n",
       "    }\n",
       "</style>\n",
       "<table border=\"1\" class=\"dataframe\">\n",
       "  <thead>\n",
       "    <tr style=\"text-align: right;\">\n",
       "      <th></th>\n",
       "      <th>model</th>\n",
       "      <th>best_score</th>\n",
       "      <th>best_params</th>\n",
       "    </tr>\n",
       "  </thead>\n",
       "  <tbody>\n",
       "    <tr>\n",
       "      <th>0</th>\n",
       "      <td>svm</td>\n",
       "      <td>0.893571</td>\n",
       "      <td>{'C': 10, 'kernel': 'linear'}</td>\n",
       "    </tr>\n",
       "    <tr>\n",
       "      <th>1</th>\n",
       "      <td>random_forest</td>\n",
       "      <td>0.858571</td>\n",
       "      <td>{'n_estimators': 100}</td>\n",
       "    </tr>\n",
       "    <tr>\n",
       "      <th>2</th>\n",
       "      <td>logistic_regression</td>\n",
       "      <td>0.902143</td>\n",
       "      <td>{'C': 11}</td>\n",
       "    </tr>\n",
       "    <tr>\n",
       "      <th>3</th>\n",
       "      <td>NaiveByes_regression</td>\n",
       "      <td>0.852857</td>\n",
       "      <td>{}</td>\n",
       "    </tr>\n",
       "  </tbody>\n",
       "</table>\n",
       "</div>"
      ],
      "text/plain": [
       "                  model  best_score                    best_params\n",
       "0                   svm    0.893571  {'C': 10, 'kernel': 'linear'}\n",
       "1         random_forest    0.858571          {'n_estimators': 100}\n",
       "2   logistic_regression    0.902143                      {'C': 11}\n",
       "3  NaiveByes_regression    0.852857                             {}"
      ]
     },
     "execution_count": 1065,
     "metadata": {},
     "output_type": "execute_result"
    }
   ],
   "source": [
    "####### Implement GridSearchCV for finding best model ###########\n",
    "from sklearn.model_selection import GridSearchCV\n",
    "scores = []\n",
    "\n",
    "for model_name, mp in model_params.items():\n",
    "    clf =  GridSearchCV(mp['model'], mp['params'], cv=5, return_train_score=False)\n",
    "    clf.fit(train_X, train_y)\n",
    "    scores.append({\n",
    "        'model': model_name,\n",
    "        'best_score': clf.best_score_,\n",
    "        'best_params': clf.best_params_\n",
    "    })\n",
    "    \n",
    "df_best = pd.DataFrame(scores,columns=['model','best_score','best_params'])\n",
    "df_best"
   ]
  },
  {
   "cell_type": "code",
   "execution_count": null,
   "metadata": {},
   "outputs": [],
   "source": [
    "###### Method for showing confusion matrix ########\n",
    "\n",
    "def show_confusion_matrix(valid_y, predicted, size=1, trim_labels=False):\n",
    "    mat = confusion_matrix(valid_y, predicted)\n",
    "    plt.figure(figsize=(4*size, 4*size))\n",
    "    f, ax = plt.subplots(1,1, figsize=(4*size,4*size))\n",
    "    sns.set()\n",
    "    target_labels = np.unique(valid_y)\n",
    "    if(trim_labels):\n",
    "        target_labels = [x[0:70] for x in target_labels]\n",
    "    sns.heatmap(mat.T, square=True, annot=True, fmt='d', cbar=False,\n",
    "                xticklabels=target_labels,\n",
    "                yticklabels=target_labels\n",
    "               )\n",
    "    ax.set_xticklabels(ax.get_xticklabels());\n",
    "    ax.set_yticklabels(ax.get_yticklabels());\n",
    "    plt.xlabel('true label')\n",
    "    plt.ylabel('predicted label')\n",
    "    plt.show()"
   ]
  },
  {
   "cell_type": "code",
   "execution_count": 1066,
   "metadata": {},
   "outputs": [
    {
     "name": "stdout",
     "output_type": "stream",
     "text": [
      "Wall time: 0 ns\n"
     ]
    }
   ],
   "source": [
    "########## Logistics model : Because Gridsearch cv results best model is Logistics model ###########\n",
    "\n",
    "%time\n",
    "clf_logistics = LogisticRegression(C=11,solver='liblinear',multi_class='auto')\n",
    "clf_logistics = clf_logistics.fit(train_X, train_y)"
   ]
  },
  {
   "cell_type": "code",
   "execution_count": 1067,
   "metadata": {},
   "outputs": [],
   "source": [
    "# save the model to disk\n",
    "\n",
    "filename = 'finalized_model_logistics_Regression.pkl'\n",
    "pickle.dump(clf_logistics, open(filename, 'wb'))\n"
   ]
  },
  {
   "cell_type": "code",
   "execution_count": 1068,
   "metadata": {},
   "outputs": [],
   "source": [
    "# load the model from disk\n",
    "loaded_model = pickle.load(open(filename, 'rb'))"
   ]
  },
  {
   "cell_type": "code",
   "execution_count": 1069,
   "metadata": {},
   "outputs": [
    {
     "name": "stdout",
     "output_type": "stream",
     "text": [
      "Valid:\n",
      "========================================================\n",
      "Feature: category \t| Prediction accuracy: 0.9314285714285714\n",
      "Feature: category \t| Prediction F1-score: 0.9305670951604063\n",
      "Feature: category \t| Prediction recall: 0.9314285714285714\n"
     ]
    },
    {
     "data": {
      "text/plain": [
       "<Figure size 432x432 with 0 Axes>"
      ]
     },
     "metadata": {},
     "output_type": "display_data"
    },
    {
     "data": {
      "image/png": "[encoded data removed]",
      "text/plain": [
       "<Figure size 432x432 with 1 Axes>"
      ]
     },
     "metadata": {},
     "output_type": "display_data"
    },
    {
     "name": "stdout",
     "output_type": "stream",
     "text": [
      "              precision    recall  f1-score   support\n",
      "\n",
      "           0       1.00      0.85      0.92        27\n",
      "           1       0.92      0.92      0.92        36\n",
      "           2       0.97      0.97      0.97        33\n",
      "           3       0.87      1.00      0.93        62\n",
      "           4       0.90      0.86      0.88        22\n",
      "           5       1.00      1.00      1.00        31\n",
      "           6       0.93      0.78      0.85        32\n",
      "           7       0.98      1.00      0.99        48\n",
      "           8       0.86      0.94      0.90        34\n",
      "           9       0.95      0.84      0.89        25\n",
      "\n",
      "    accuracy                           0.93       350\n",
      "   macro avg       0.94      0.92      0.93       350\n",
      "weighted avg       0.93      0.93      0.93       350\n",
      "\n"
     ]
    }
   ],
   "source": [
    "########## Getting the prediction from above loaded model and check the accuracy and other parameters\n",
    "######### performed better, with weighted and macro average scores for performance, recall and f1-score \n",
    "######### (and corresponding scores per class)\n",
    "\n",
    "\n",
    "predicted_valid = loaded_model.predict(valid_X)\n",
    "prediction_acc = np.mean(predicted_valid == valid_y)\n",
    "prediction_f1_score = f1_score(valid_y, predicted_valid, average='weighted')\n",
    "prediction_recall = recall_score(valid_y, predicted_valid, average='weighted')\n",
    "print(\"Valid:\\n========================================================\")\n",
    "print(f\"Feature: {target} \\t| Prediction accuracy: {prediction_acc}\")\n",
    "print(f\"Feature: {target} \\t| Prediction F1-score: {prediction_f1_score}\")\n",
    "print(f\"Feature: {target} \\t| Prediction recall: {prediction_recall}\")\n",
    "show_confusion_matrix(valid_y, predicted_valid,size=1.5)\n",
    "print(classification_report(valid_y, predicted_valid))"
   ]
  },
  {
   "cell_type": "code",
   "execution_count": 1072,
   "metadata": {},
   "outputs": [],
   "source": [
    "##########  So we got the accuracy 93% . Which is good . We can use this model now ##############\n",
    "##########  We can also use Deep learning for this classification with BERT but the dataset is very small and in deep learning \n",
    "########### we should have huge data for better accuracy"
   ]
  }
 ],
 "metadata": {
  "kernelspec": {
   "display_name": "Python 3 (ipykernel)",
   "language": "python",
   "name": "python3"
  },
  "language_info": {
   "codemirror_mode": {
    "name": "ipython",
    "version": 3
   },
   "file_extension": ".py",
   "mimetype": "text/x-python",
   "name": "python",
   "nbconvert_exporter": "python",
   "pygments_lexer": "ipython3",
   "version": "3.7.13"
  }
 },
 "nbformat": 4,
 "nbformat_minor": 2
}
