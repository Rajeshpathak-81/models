{
 "cells": [
  {
   "cell_type": "markdown",
   "metadata": {
    "colab_type": "text",
    "id": "view-in-github"
   },
   "source": [
    "# This file used for finetuning GPT-3 model"
   ]
  },
  {
   "cell_type": "markdown",
   "metadata": {
    "id": "p7kMGK5fVrIg"
   },
   "source": [
    "DataSet: ****ATIS Airline Travel Information System****\n",
    "\n",
    "[https://www.kaggle.com/datasets/hassanamin/atis-airlinetravelinformationsystem](https://www.kaggle.com/datasets/hassanamin/atis-airlinetravelinformationsystem)"
   ]
  },
  {
   "cell_type": "code",
   "execution_count": null,
   "metadata": {
    "id": "qlJ_HpV1TIMz"
   },
   "outputs": [],
   "source": [
    "import pandas as pd\n",
    "import numpy as np\n",
    "np.random.seed(0)"
   ]
  },
  {
   "cell_type": "code",
   "execution_count": null,
   "metadata": {
    "colab": {
     "base_uri": "https://localhost:8080/",
     "height": 206
    },
    "id": "g3CienaxTTQN",
    "outputId": "2eddbc79-e9b8-46f8-d15f-9e741da2c9d4"
   },
   "outputs": [],
   "source": [
    "# Please change this path as per your data file locaion\n",
    "data = pd.read_csv(\"/content/atis_intents.csv\",header=None)\n",
    "data.head()"
   ]
  },
  {
   "cell_type": "code",
   "execution_count": null,
   "metadata": {
    "id": "09_iuCZ_WrHI"
   },
   "outputs": [],
   "source": [
    "data.columns = ['intent','text']"
   ]
  },
  {
   "cell_type": "code",
   "execution_count": null,
   "metadata": {
    "colab": {
     "base_uri": "https://localhost:8080/"
    },
    "id": "hlUkeTobTX4U",
    "outputId": "56ac478b-4824-45cb-e35c-30787d288915"
   },
   "outputs": [],
   "source": [
    "data['intent'].unique()"
   ]
  },
  {
   "cell_type": "code",
   "execution_count": null,
   "metadata": {
    "colab": {
     "base_uri": "https://localhost:8080/"
    },
    "id": "uNhdMgTXTjFl",
    "outputId": "8a0dda10-2017-4bfc-bd4e-69f88061caf5"
   },
   "outputs": [],
   "source": [
    "data['intent'].nunique()"
   ]
  },
  {
   "cell_type": "code",
   "execution_count": null,
   "metadata": {
    "colab": {
     "base_uri": "https://localhost:8080/"
    },
    "id": "uujzu0U_T-Xy",
    "outputId": "ac39b033-f372-46a4-f6e6-4c2b0a9a4379"
   },
   "outputs": [],
   "source": [
    "data['intent'] = data['intent'].str.replace('#','_')\n",
    "data['intent'].unique()"
   ]
  },
  {
   "cell_type": "code",
   "execution_count": null,
   "metadata": {
    "colab": {
     "base_uri": "https://localhost:8080/"
    },
    "id": "BdqUTN7LVMb3",
    "outputId": "d550fef3-c487-4c02-d6cc-d4821812fd8d"
   },
   "outputs": [],
   "source": [
    "data['intent'] = data['intent'].str.replace('atis_','')\n",
    "data['intent'].unique()"
   ]
  },
  {
   "cell_type": "code",
   "execution_count": null,
   "metadata": {
    "colab": {
     "base_uri": "https://localhost:8080/"
    },
    "id": "wN_Mnz5XVDP6",
    "outputId": "20db46e3-2b4a-4791-de65-fbae8e9b9d55"
   },
   "outputs": [],
   "source": [
    "data['intent'].value_counts()"
   ]
  },
  {
   "cell_type": "code",
   "execution_count": null,
   "metadata": {
    "id": "HYwbkYVwWLxK"
   },
   "outputs": [],
   "source": [
    "labels = ['flight','ground_service','airfare','abbreviation','flight_time']"
   ]
  },
  {
   "cell_type": "code",
   "execution_count": null,
   "metadata": {
    "colab": {
     "base_uri": "https://localhost:8080/"
    },
    "id": "oj86WhtpXTYB",
    "outputId": "f17eaea1-bda3-4913-945e-5572c97e9b83"
   },
   "outputs": [],
   "source": [
    "data = data[data[\"intent\"].isin(labels)]\n",
    "data['intent'].value_counts()"
   ]
  },
  {
   "cell_type": "code",
   "execution_count": null,
   "metadata": {
    "colab": {
     "base_uri": "https://localhost:8080/"
    },
    "id": "9kmxqUy3X71W",
    "outputId": "905decb5-9da4-486d-f68d-ff710a6c4a93"
   },
   "outputs": [],
   "source": [
    "sample_data = data.groupby('intent').apply(lambda x: x.sample(n=40)).reset_index(drop = True)\n",
    "sample_data.intent.value_counts()"
   ]
  },
  {
   "cell_type": "code",
   "execution_count": null,
   "metadata": {
    "id": "OmFeffyMuPN_"
   },
   "outputs": [],
   "source": [
    "sample_data.to_csv(\"sample_data.csv\",index=False)"
   ]
  },
  {
   "cell_type": "code",
   "execution_count": null,
   "metadata": {
    "id": "L9m4n4m3aMXg"
   },
   "outputs": [],
   "source": [
    "sample_data = sample_data[['text','intent']]"
   ]
  },
  {
   "cell_type": "code",
   "execution_count": null,
   "metadata": {
    "colab": {
     "base_uri": "https://localhost:8080/",
     "height": 206
    },
    "id": "E5dCsBQoYt5L",
    "outputId": "41d1f05f-7f94-4d3d-c3c6-0578854f8c07"
   },
   "outputs": [],
   "source": [
    "\n",
    "sample_data.head()"
   ]
  },
  {
   "cell_type": "code",
   "execution_count": null,
   "metadata": {
    "id": "pLTOXkLcjI7Q"
   },
   "outputs": [],
   "source": [
    "sample_data['text'] = sample_data['text'].str.strip()\n",
    "sample_data['intent'] = sample_data['intent'].str.strip()"
   ]
  },
  {
   "cell_type": "code",
   "execution_count": null,
   "metadata": {
    "colab": {
     "base_uri": "https://localhost:8080/",
     "height": 206
    },
    "id": "OR1BJULNh29M",
    "outputId": "49998e49-c377-4247-c0ea-e2c9e4c8d921"
   },
   "outputs": [],
   "source": [
    "sample_data['text'] = sample_data['text'] + \"\\n\\nIntent:\\n\\n\"\n",
    "# sample_data['text'] = \"Classify text into on the intent: flight, ground_service, airline, aircraft, flight_time. Text: \"+sample_data['text'] + \"\\n\\nIntent:\\n\\n\"\n",
    "sample_data['intent'] = \" \"+sample_data['intent'] + \" END\"\n",
    "sample_data.head()"
   ]
  },
  {
   "cell_type": "code",
   "execution_count": null,
   "metadata": {
    "colab": {
     "base_uri": "https://localhost:8080/"
    },
    "id": "PHfA-51Vi56x",
    "outputId": "520abf81-ded2-4839-9d3c-274b3fc1dbc3"
   },
   "outputs": [],
   "source": [
    "print(sample_data['text'][0])"
   ]
  },
  {
   "cell_type": "code",
   "execution_count": null,
   "metadata": {
    "colab": {
     "base_uri": "https://localhost:8080/"
    },
    "id": "cYo95VjijZK1",
    "outputId": "46a9e64f-b0cf-4ee9-962e-0268004fab55"
   },
   "outputs": [],
   "source": [
    "print(sample_data['intent'][0])"
   ]
  },
  {
   "cell_type": "code",
   "execution_count": null,
   "metadata": {
    "id": "4twzXMkKZwUX"
   },
   "outputs": [],
   "source": [
    "sample_data.columns = ['prompt','completion']"
   ]
  },
  {
   "cell_type": "code",
   "execution_count": null,
   "metadata": {
    "id": "0JW51Cb7YcZO"
   },
   "outputs": [],
   "source": [
    "sample_data.to_json(\"intent_sample.jsonl\", orient='records', lines=True)"
   ]
  },
  {
   "cell_type": "code",
   "execution_count": null,
   "metadata": {
    "id": "v0Pg58AHYzXF"
   },
   "outputs": [],
   "source": [
    "# sample_data.to_json(\"intent_.json\", orient='records')"
   ]
  },
  {
   "cell_type": "code",
   "execution_count": null,
   "metadata": {
    "id": "1jc26bsGY7V8"
   },
   "outputs": [],
   "source": [
    "!pip install --upgrade openai"
   ]
  },
  {
   "cell_type": "code",
   "execution_count": null,
   "metadata": {
    "colab": {
     "base_uri": "https://localhost:8080/"
    },
    "id": "0bhyKnRuZYG9",
    "outputId": "7e287cf7-1149-4273-a4ea-1be0b71427d4"
   },
   "outputs": [],
   "source": [
    "!openai tools fine_tunes.prepare_data -f intent_sample.jsonl"
   ]
  },
  {
   "cell_type": "code",
   "execution_count": null,
   "metadata": {
    "id": "HXH7FcA74j6q"
   },
   "outputs": [],
   "source": [
    "import os\n",
    "# Set here your OPen ai key\n",
    "os.environ['OPENAI_API_KEY'] = \"key\""
   ]
  },
  {
   "cell_type": "code",
   "execution_count": null,
   "metadata": {
    "colab": {
     "base_uri": "https://localhost:8080/"
    },
    "id": "cR27GSpl4lQ0",
    "outputId": "b48ec37b-a4d1-414e-edca-a7444de6451c"
   },
   "outputs": [],
   "source": [
    "!openai api fine_tunes.create -t \"intent_sample_prepared_train.jsonl\" -v \"intent_sample_prepared_valid.jsonl\" -m 'davinci'"
   ]
  },
  {
   "cell_type": "code",
   "execution_count": null,
   "metadata": {
    "colab": {
     "base_uri": "https://localhost:8080/"
    },
    "id": "r3Qa8OXw759G",
    "outputId": "ec455502-201b-4f79-f1ca-bc1a079d8f4b"
   },
   "outputs": [],
   "source": [
    "!openai api fine_tunes.follow -i ft-L68gCxl9xH1Cf6JZ7HYGevDV"
   ]
  },
  {
   "cell_type": "code",
   "execution_count": null,
   "metadata": {
    "id": "ev9FUSJEgGQA"
   },
   "outputs": [],
   "source": [
    "# prompt = \"Do we have london flight on Monday\\n\\nIntent:\\n\\n\"\n",
    "# prompt = \"what is the ap57 restriction\\n\\nIntent:\\n\\n\"\n",
    "prompt = \"show me ground transportation in baltimore\\n\\nIntent:\\n\\n\""
   ]
  },
  {
   "cell_type": "markdown",
   "metadata": {
    "id": "lC1qLV9Vwdvi"
   },
   "source": []
  },
  {
   "cell_type": "code",
   "execution_count": null,
   "metadata": {
    "colab": {
     "base_uri": "https://localhost:8080/"
    },
    "id": "nKlaspj-fFbm",
    "outputId": "d32648a5-5e10-4472-cebe-d5288107bbe7"
   },
   "outputs": [],
   "source": [
    "import openai\n",
    "openai.api_key ='key'\n",
    "response = openai.Completion.create(\n",
    "  model=\"davinci:ft-personal-xxxx-xx-xx-xx-xx-xx\", # This will be your new trained model with datetime format\n",
    "  prompt=prompt,\n",
    "  max_tokens=5,\n",
    "  temperature=0,\n",
    "  top_p=1,\n",
    "  frequency_penalty=0,\n",
    "  presence_penalty=0,\n",
    "  stop=[\" END\"]\n",
    ")\n",
    "print(response['choices'][0]['text'])"
   ]
  },
  {
   "cell_type": "code",
   "execution_count": null,
   "metadata": {
    "id": "Jt22aIK29d_Z"
   },
   "outputs": [],
   "source": []
  }
 ],
 "metadata": {
  "colab": {
   "authorship_tag": "ABX9TyMbj+7m976fmpJkGXHf5tPL",
   "collapsed_sections": [],
   "include_colab_link": true,
   "provenance": []
  },
  "kernelspec": {
   "display_name": "Python 3 (ipykernel)",
   "language": "python",
   "name": "python3"
  },
  "language_info": {
   "codemirror_mode": {
    "name": "ipython",
    "version": 3
   },
   "file_extension": ".py",
   "mimetype": "text/x-python",
   "name": "python",
   "nbconvert_exporter": "python",
   "pygments_lexer": "ipython3",
   "version": "3.7.13"
  }
 },
 "nbformat": 4,
 "nbformat_minor": 1
}
